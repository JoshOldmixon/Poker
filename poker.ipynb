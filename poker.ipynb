{
 "cells": [
  {
   "cell_type": "code",
   "execution_count": 3,
   "metadata": {},
   "outputs": [],
   "source": [
    "import random\n",
    "import pandas as pd\n",
    "import numpy as np\n",
    "from IPython.display import clear_output\n"
   ]
  },
  {
   "cell_type": "code",
   "execution_count": 4,
   "metadata": {},
   "outputs": [],
   "source": [
    "class freshDeck:\n",
    "    def __init__(self):\n",
    "        suits = ['Spades','Hearts','Diamonds','Clubs']\n",
    "        values = ['2','3','4','5','6','7','8','9','10','J','Q','K','A']\n",
    "\n",
    "        cards = []\n",
    "\n",
    "        for suit in suits:\n",
    "            for value in values:\n",
    "                cards.append([value,suit])\n",
    "        cards = pd.DataFrame(cards,columns={'Value','Suit'})\n",
    "        self.table = cards"
   ]
  },
  {
   "cell_type": "code",
   "execution_count": 5,
   "metadata": {},
   "outputs": [],
   "source": [
    "class shuffleDeck:\n",
    "    def __init__(self,cards):\n",
    "        shuffled = cards.sample(frac = 1).reset_index()\n",
    "        shuffled = shuffled.drop(columns='index')\n",
    "        self.table = shuffled"
   ]
  },
  {
   "cell_type": "code",
   "execution_count": 6,
   "metadata": {},
   "outputs": [],
   "source": [
    "class dealCards:\n",
    "    def __init__(self,player_count):\n",
    "        global deck\n",
    "        players_cards = []\n",
    "        for player in range(1,player_count+1):\n",
    "            for x in range(2):\n",
    "                drop_indices = np.random.choice(deck.index, 1, replace=False)\n",
    "                ind = int(drop_indices)\n",
    "                pick = deck.loc[ind]\n",
    "                deck = deck.drop([ind],axis=0).reset_index().drop(columns='index')\n",
    "                players_cards.append([player,pick['Value'],pick['Suit']])\n",
    "        players_cards = pd.DataFrame(players_cards)\n",
    "        players_cards = players_cards.rename(columns={0:'Player',1:'Value',2:'Suit'})\n",
    "        self.table = players_cards"
   ]
  },
  {
   "cell_type": "code",
   "execution_count": 7,
   "metadata": {},
   "outputs": [],
   "source": [
    "class deckStats:\n",
    "    def __init__(self):\n",
    "        suitGroups = deck.groupby('Suit')\n",
    "        valueGroups = deck.groupby('Value')\n",
    "\n",
    "        suitStats = []\n",
    "        valueStats = []\n",
    "        for x in suitGroups.groups:\n",
    "            s = suitGroups.get_group(x)\n",
    "            percentage = round((len(s)/len(deck)) * 100,1)\n",
    "            amount = str(len(s))+' / 13'\n",
    "            suitStats.append([x,percentage,amount])\n",
    "        for x in valueGroups.groups:\n",
    "            s = valueGroups.get_group(x)\n",
    "            percentage = round((len(s)/len(deck)) * 100,1)\n",
    "            amount = str(len(s))+' / 4'\n",
    "            valueStats.append([x,percentage,amount])\n",
    "        statsoverall =  suitStats + valueStats\n",
    "        statsoverall = pd.DataFrame(statsoverall).sort_values(by=1,ascending=False).T\n",
    "        statsoverall.columns = statsoverall.iloc[0]\n",
    "        statsoverall = statsoverall[1:]\n",
    "        self.table = statsoverall"
   ]
  },
  {
   "cell_type": "code",
   "execution_count": 8,
   "metadata": {},
   "outputs": [],
   "source": [
    "class flop:\n",
    "    def __init__(self):\n",
    "        global deck\n",
    "        flop_cards = []\n",
    "        for x in range(3):\n",
    "            drop_indices = np.random.choice(deck.index, 1, replace=False)\n",
    "            ind = int(drop_indices)\n",
    "            pick = deck.loc[ind]\n",
    "            deck = deck.drop([ind],axis=0).reset_index().drop(columns='index')\n",
    "            flop_cards.append([pick['Value'],pick['Suit']])\n",
    "        flop_cards = pd.DataFrame(flop_cards,columns={'Value','Suit'})\n",
    "        self.table = flop_cards    "
   ]
  },
  {
   "cell_type": "code",
   "execution_count": 9,
   "metadata": {},
   "outputs": [],
   "source": [
    "class turn:\n",
    "    def __init__(self):\n",
    "        global deck\n",
    "        turn_card = []\n",
    "        for x in range(1):\n",
    "            drop_indices = np.random.choice(deck.index, 1, replace=False)\n",
    "            ind = int(drop_indices)\n",
    "            pick = deck.loc[ind]\n",
    "            deck = deck.drop([ind],axis=0).reset_index().drop(columns='index')\n",
    "            turn_card.append([pick['Value'],pick['Suit']])\n",
    "        turn_card = pd.DataFrame(turn_card,columns={'Value','Suit'})\n",
    "        self.table = turn_card   "
   ]
  },
  {
   "cell_type": "code",
   "execution_count": 10,
   "metadata": {},
   "outputs": [],
   "source": [
    "class river:\n",
    "    def __init__(self):\n",
    "        global deck\n",
    "        river_card = []\n",
    "        for x in range(1):\n",
    "            drop_indices = np.random.choice(deck.index, 1, replace=False)\n",
    "            ind = int(drop_indices)\n",
    "            pick = deck.loc[ind]\n",
    "            deck = deck.drop([ind],axis=0).reset_index().drop(columns='index')\n",
    "            river_card.append([pick['Value'],pick['Suit']])\n",
    "        river_card = pd.DataFrame(river_card,columns={'Value','Suit'})\n",
    "        self.table = river_card  "
   ]
  },
  {
   "cell_type": "code",
   "execution_count": 30,
   "metadata": {},
   "outputs": [],
   "source": [
    "class play:\n",
    "    def __init__(self,player_count):\n",
    "        clear_output(wait=True)\n",
    "        global deck\n",
    "        fresh = freshDeck().table\n",
    "        deck = shuffleDeck(fresh).table\n",
    "        dealt = dealCards(player_count).table\n",
    "\n",
    "        hands = dealt.groupby('Player')\n",
    "        yourHand = hands.get_group(1)\n",
    "        display(yourHand)\n",
    "\n",
    "        choice1 = input('Fold? Check/Call BB? Raise?')\n",
    "\n",
    "        if choice1 == 'f':\n",
    "            play(player_count)\n",
    "        elif choice1 == 'r' or choice1 == 'c':\n",
    "            theFlop = flop().table\n",
    "            display(theFlop)\n",
    "            choice2 = input('Fold? Check/Call BB? Raise?')\n",
    "            if choice2 == 'f':\n",
    "                play(player_count)\n",
    "            elif choice2 == 'r' or choice2 == 'c':\n",
    "                theTurn = turn().table\n",
    "                display(theTurn)\n",
    "                choice3 = input('Fold? Check/Call BB? Raise?')\n",
    "                if choice3 == 'f':\n",
    "                    play(player_count)\n",
    "                elif choice3 == 'r' or choice3 == 'c':\n",
    "                    theRiver = river().table\n",
    "                    display(theRiver)\n",
    "                    play(player_count)"
   ]
  },
  {
   "cell_type": "code",
   "execution_count": 31,
   "metadata": {},
   "outputs": [
    {
     "data": {
      "text/html": [
       "<div>\n",
       "<style scoped>\n",
       "    .dataframe tbody tr th:only-of-type {\n",
       "        vertical-align: middle;\n",
       "    }\n",
       "\n",
       "    .dataframe tbody tr th {\n",
       "        vertical-align: top;\n",
       "    }\n",
       "\n",
       "    .dataframe thead th {\n",
       "        text-align: right;\n",
       "    }\n",
       "</style>\n",
       "<table border=\"1\" class=\"dataframe\">\n",
       "  <thead>\n",
       "    <tr style=\"text-align: right;\">\n",
       "      <th></th>\n",
       "      <th>Player</th>\n",
       "      <th>Value</th>\n",
       "      <th>Suit</th>\n",
       "    </tr>\n",
       "  </thead>\n",
       "  <tbody>\n",
       "    <tr>\n",
       "      <th>0</th>\n",
       "      <td>1</td>\n",
       "      <td>Hearts</td>\n",
       "      <td>6</td>\n",
       "    </tr>\n",
       "    <tr>\n",
       "      <th>1</th>\n",
       "      <td>1</td>\n",
       "      <td>Spades</td>\n",
       "      <td>2</td>\n",
       "    </tr>\n",
       "  </tbody>\n",
       "</table>\n",
       "</div>"
      ],
      "text/plain": [
       "   Player   Value Suit\n",
       "0       1  Hearts    6\n",
       "1       1  Spades    2"
      ]
     },
     "metadata": {},
     "output_type": "display_data"
    },
    {
     "data": {
      "text/plain": [
       "<__main__.play at 0x1e8db7e5a80>"
      ]
     },
     "execution_count": 31,
     "metadata": {},
     "output_type": "execute_result"
    }
   ],
   "source": [
    "play(2)"
   ]
  }
 ],
 "metadata": {
  "kernelspec": {
   "display_name": "Python 3",
   "language": "python",
   "name": "python3"
  },
  "language_info": {
   "codemirror_mode": {
    "name": "ipython",
    "version": 3
   },
   "file_extension": ".py",
   "mimetype": "text/x-python",
   "name": "python",
   "nbconvert_exporter": "python",
   "pygments_lexer": "ipython3",
   "version": "3.10.4"
  },
  "orig_nbformat": 4
 },
 "nbformat": 4,
 "nbformat_minor": 2
}
